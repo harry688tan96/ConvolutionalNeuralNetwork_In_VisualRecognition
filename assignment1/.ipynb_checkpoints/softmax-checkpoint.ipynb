{
 "cells": [
  {
   "cell_type": "markdown",
   "metadata": {},
   "source": [
    "# Softmax exercise\n",
    "\n",
    "*Complete and hand in this completed worksheet (including its outputs and any supporting code outside of the worksheet) with your assignment submission. For more details see the [assignments page](http://vision.stanford.edu/teaching/cs231n/assignments.html) on the course website.*\n",
    "\n",
    "This exercise is analogous to the SVM exercise. You will:\n",
    "\n",
    "- implement a fully-vectorized **loss function** for the Softmax classifier\n",
    "- implement the fully-vectorized expression for its **analytic gradient**\n",
    "- **check your implementation** with numerical gradient\n",
    "- use a validation set to **tune the learning rate and regularization** strength\n",
    "- **optimize** the loss function with **SGD**\n",
    "- **visualize** the final learned weights\n"
   ]
  },
  {
   "cell_type": "code",
   "execution_count": 1,
   "metadata": {
    "collapsed": false
   },
   "outputs": [],
   "source": [
    "import random\n",
    "import numpy as np\n",
    "from cs231n.data_utils import load_CIFAR10\n",
    "import matplotlib.pyplot as plt\n",
    "\n",
    "from __future__ import print_function\n",
    "\n",
    "%matplotlib inline\n",
    "plt.rcParams['figure.figsize'] = (10.0, 8.0) # set default size of plots\n",
    "plt.rcParams['image.interpolation'] = 'nearest'\n",
    "plt.rcParams['image.cmap'] = 'gray'\n",
    "\n",
    "# for auto-reloading extenrnal modules\n",
    "# see http://stackoverflow.com/questions/1907993/autoreload-of-modules-in-ipython\n",
    "%load_ext autoreload\n",
    "%autoreload 2"
   ]
  },
  {
   "cell_type": "code",
   "execution_count": 2,
   "metadata": {
    "collapsed": false
   },
   "outputs": [
    {
     "name": "stdout",
     "output_type": "stream",
     "text": [
      "Train data shape:  (49000, 3073)\n",
      "Train labels shape:  (49000,)\n",
      "Validation data shape:  (1000, 3073)\n",
      "Validation labels shape:  (1000,)\n",
      "Test data shape:  (1000, 3073)\n",
      "Test labels shape:  (1000,)\n",
      "dev data shape:  (500, 3073)\n",
      "dev labels shape:  (500,)\n"
     ]
    }
   ],
   "source": [
    "def get_CIFAR10_data(num_training=49000, num_validation=1000, num_test=1000, num_dev=500):\n",
    "    \"\"\"\n",
    "    Load the CIFAR-10 dataset from disk and perform preprocessing to prepare\n",
    "    it for the linear classifier. These are the same steps as we used for the\n",
    "    SVM, but condensed to a single function.  \n",
    "    \"\"\"\n",
    "    # Load the raw CIFAR-10 data\n",
    "    cifar10_dir = 'cs231n/datasets/cifar-10-batches-py'\n",
    "    X_train, y_train, X_test, y_test = load_CIFAR10(cifar10_dir)\n",
    "    \n",
    "    # subsample the data\n",
    "    mask = list(range(num_training, num_training + num_validation))\n",
    "    X_val = X_train[mask]\n",
    "    y_val = y_train[mask]\n",
    "    mask = list(range(num_training))\n",
    "    X_train = X_train[mask]\n",
    "    y_train = y_train[mask]\n",
    "    mask = list(range(num_test))\n",
    "    X_test = X_test[mask]\n",
    "    y_test = y_test[mask]\n",
    "    mask = np.random.choice(num_training, num_dev, replace=False)\n",
    "    X_dev = X_train[mask]\n",
    "    y_dev = y_train[mask]\n",
    "    \n",
    "    # Preprocessing: reshape the image data into rows\n",
    "    X_train = np.reshape(X_train, (X_train.shape[0], -1))\n",
    "    X_val = np.reshape(X_val, (X_val.shape[0], -1))\n",
    "    X_test = np.reshape(X_test, (X_test.shape[0], -1))\n",
    "    X_dev = np.reshape(X_dev, (X_dev.shape[0], -1))\n",
    "    \n",
    "    # Normalize the data: subtract the mean image\n",
    "    mean_image = np.mean(X_train, axis = 0)\n",
    "    X_train -= mean_image\n",
    "    X_val -= mean_image\n",
    "    X_test -= mean_image\n",
    "    X_dev -= mean_image\n",
    "    \n",
    "    # add bias dimension and transform into columns\n",
    "    X_train = np.hstack([X_train, np.ones((X_train.shape[0], 1))])\n",
    "    X_val = np.hstack([X_val, np.ones((X_val.shape[0], 1))])\n",
    "    X_test = np.hstack([X_test, np.ones((X_test.shape[0], 1))])\n",
    "    X_dev = np.hstack([X_dev, np.ones((X_dev.shape[0], 1))])\n",
    "    \n",
    "    return X_train, y_train, X_val, y_val, X_test, y_test, X_dev, y_dev\n",
    "\n",
    "\n",
    "# Invoke the above function to get our data.\n",
    "X_train, y_train, X_val, y_val, X_test, y_test, X_dev, y_dev = get_CIFAR10_data()\n",
    "print('Train data shape: ', X_train.shape)\n",
    "print('Train labels shape: ', y_train.shape)\n",
    "print('Validation data shape: ', X_val.shape)\n",
    "print('Validation labels shape: ', y_val.shape)\n",
    "print('Test data shape: ', X_test.shape)\n",
    "print('Test labels shape: ', y_test.shape)\n",
    "print('dev data shape: ', X_dev.shape)\n",
    "print('dev labels shape: ', y_dev.shape)"
   ]
  },
  {
   "cell_type": "markdown",
   "metadata": {},
   "source": [
    "## Softmax Classifier\n",
    "\n",
    "Your code for this section will all be written inside **cs231n/classifiers/softmax.py**. \n"
   ]
  },
  {
   "cell_type": "code",
   "execution_count": 3,
   "metadata": {
    "collapsed": false
   },
   "outputs": [
    {
     "name": "stdout",
     "output_type": "stream",
     "text": [
      "loss: 2.366233\n",
      "sanity check: 2.302585\n"
     ]
    }
   ],
   "source": [
    "# First implement the naive softmax loss function with nested loops.\n",
    "# Open the file cs231n/classifiers/softmax.py and implement the\n",
    "# softmax_loss_naive function.\n",
    "\n",
    "from cs231n.classifiers.softmax import softmax_loss_naive\n",
    "import time\n",
    "\n",
    "# Generate a random softmax weight matrix and use it to compute the loss.\n",
    "W = np.random.randn(3073, 10) * 0.0001\n",
    "loss, grad = softmax_loss_naive(W, X_dev, y_dev, 0.0)\n",
    "\n",
    "# As a rough sanity check, our loss should be something close to -log(0.1).\n",
    "print('loss: %f' % loss)\n",
    "print('sanity check: %f' % (-np.log(0.1)))"
   ]
  },
  {
   "cell_type": "markdown",
   "metadata": {},
   "source": [
    "## Inline Question 1:\n",
    "Why do we expect our loss to be close to -log(0.1)? Explain briefly.**\n",
    "\n",
    "**Your answer:** *Since the weight matrix W is uniform randomly selected, the predicted probability of each class is uniformly distributed and identically equals 1/10, where 10 is the number of classes. So the cross entropy for each example is -log(0.1), which should be close to the loss.*\n"
   ]
  },
  {
   "cell_type": "code",
   "execution_count": 4,
   "metadata": {
    "collapsed": false
   },
   "outputs": [
    {
     "name": "stdout",
     "output_type": "stream",
     "text": [
      "numerical: 0.795089 analytic: 0.795089, relative error: 8.077767e-08\n",
      "numerical: 0.678870 analytic: 0.678870, relative error: 5.358943e-08\n",
      "numerical: 0.625807 analytic: 0.625807, relative error: 3.424395e-08\n",
      "numerical: 0.163367 analytic: 0.163367, relative error: 3.344435e-08\n",
      "numerical: -1.260076 analytic: -1.260076, relative error: 1.392504e-09\n",
      "numerical: 0.492036 analytic: 0.492036, relative error: 6.208780e-08\n",
      "numerical: 0.673856 analytic: 0.673856, relative error: 2.599012e-08\n",
      "numerical: 2.334581 analytic: 2.334581, relative error: 5.036968e-08\n",
      "numerical: 3.707950 analytic: 3.707950, relative error: 6.624046e-09\n",
      "numerical: 2.069330 analytic: 2.069330, relative error: 4.263426e-08\n",
      "numerical: -1.656618 analytic: -1.656618, relative error: 1.255440e-08\n",
      "numerical: 0.637358 analytic: 0.637358, relative error: 3.066921e-08\n",
      "numerical: 1.580695 analytic: 1.580695, relative error: 5.917343e-08\n",
      "numerical: -2.772005 analytic: -2.772005, relative error: 5.752452e-09\n",
      "numerical: 0.284259 analytic: 0.284259, relative error: 4.753394e-08\n",
      "numerical: 0.518151 analytic: 0.518151, relative error: 4.741774e-08\n",
      "numerical: 0.733554 analytic: 0.733553, relative error: 1.446239e-07\n",
      "numerical: 0.999969 analytic: 0.999969, relative error: 3.289666e-08\n",
      "numerical: 1.892617 analytic: 1.892617, relative error: 5.118292e-09\n",
      "numerical: 0.371481 analytic: 0.371481, relative error: 5.349857e-08\n"
     ]
    }
   ],
   "source": [
    "# Complete the implementation of softmax_loss_naive and implement a (naive)\n",
    "# version of the gradient that uses nested loops.\n",
    "loss, grad = softmax_loss_naive(W, X_dev, y_dev, 0.0)\n",
    "\n",
    "# As we did for the SVM, use numeric gradient checking as a debugging tool.\n",
    "# The numeric gradient should be close to the analytic gradient.\n",
    "from cs231n.gradient_check import grad_check_sparse\n",
    "f = lambda w: softmax_loss_naive(w, X_dev, y_dev, 0.0)[0]\n",
    "grad_numerical = grad_check_sparse(f, W, grad, 10)\n",
    "\n",
    "# similar to SVM case, do another gradient check with regularization\n",
    "loss, grad = softmax_loss_naive(W, X_dev, y_dev, 5e1)\n",
    "f = lambda w: softmax_loss_naive(w, X_dev, y_dev, 5e1)[0]\n",
    "grad_numerical = grad_check_sparse(f, W, grad, 10)"
   ]
  },
  {
   "cell_type": "code",
   "execution_count": 5,
   "metadata": {
    "collapsed": false
   },
   "outputs": [
    {
     "name": "stdout",
     "output_type": "stream",
     "text": [
      "naive loss: 2.366233e+00 computed in 0.244576s\n",
      "vectorized loss: 2.366233e+00 computed in 0.014140s\n",
      "Loss difference: 0.000000\n",
      "Gradient difference: 0.000000\n"
     ]
    }
   ],
   "source": [
    "# Now that we have a naive implementation of the softmax loss function and its gradient,\n",
    "# implement a vectorized version in softmax_loss_vectorized.\n",
    "# The two versions should compute the same results, but the vectorized version should be\n",
    "# much faster.\n",
    "tic = time.time()\n",
    "loss_naive, grad_naive = softmax_loss_naive(W, X_dev, y_dev, 0.000005)\n",
    "toc = time.time()\n",
    "print('naive loss: %e computed in %fs' % (loss_naive, toc - tic))\n",
    "\n",
    "from cs231n.classifiers.softmax import softmax_loss_vectorized\n",
    "tic = time.time()\n",
    "loss_vectorized, grad_vectorized = softmax_loss_vectorized(W, X_dev, y_dev, 0.000005)\n",
    "toc = time.time()\n",
    "print('vectorized loss: %e computed in %fs' % (loss_vectorized, toc - tic))\n",
    "\n",
    "# As we did for the SVM, we use the Frobenius norm to compare the two versions\n",
    "# of the gradient.\n",
    "grad_difference = np.linalg.norm(grad_naive - grad_vectorized, ord='fro')\n",
    "print('Loss difference: %f' % np.abs(loss_naive - loss_vectorized))\n",
    "print('Gradient difference: %f' % grad_difference)"
   ]
  },
  {
   "cell_type": "code",
   "execution_count": 6,
   "metadata": {
    "collapsed": false
   },
   "outputs": [
    {
     "name": "stdout",
     "output_type": "stream",
     "text": [
      "Hyperparameters tuning in progress . . . . . . . . . . . . . . . . . . . . . . . . . . . . . . . . . . . . . . . . . . . . . . . . \n",
      "Hyperparameters tuning done ...\n",
      "lr 1.000000e-07 reg 1.000000e+01 train accuracy: 0.237041 val accuracy: 0.232000\n",
      "lr 1.000000e-07 reg 2.682696e+01 train accuracy: 0.231510 val accuracy: 0.238000\n",
      "lr 1.000000e-07 reg 7.196857e+01 train accuracy: 0.229469 val accuracy: 0.243000\n",
      "lr 1.000000e-07 reg 1.930698e+02 train accuracy: 0.230735 val accuracy: 0.267000\n",
      "lr 1.000000e-07 reg 5.179475e+02 train accuracy: 0.234204 val accuracy: 0.251000\n",
      "lr 1.000000e-07 reg 1.389495e+03 train accuracy: 0.242469 val accuracy: 0.248000\n",
      "lr 1.000000e-07 reg 3.727594e+03 train accuracy: 0.241653 val accuracy: 0.257000\n",
      "lr 1.000000e-07 reg 1.000000e+04 train accuracy: 0.281633 val accuracy: 0.287000\n",
      "lr 3.981072e-07 reg 1.000000e+01 train accuracy: 0.288694 val accuracy: 0.313000\n",
      "lr 3.981072e-07 reg 2.682696e+01 train accuracy: 0.294612 val accuracy: 0.281000\n",
      "lr 3.981072e-07 reg 7.196857e+01 train accuracy: 0.294694 val accuracy: 0.293000\n",
      "lr 3.981072e-07 reg 1.930698e+02 train accuracy: 0.297184 val accuracy: 0.291000\n",
      "lr 3.981072e-07 reg 5.179475e+02 train accuracy: 0.305429 val accuracy: 0.306000\n",
      "lr 3.981072e-07 reg 1.389495e+03 train accuracy: 0.325612 val accuracy: 0.321000\n",
      "lr 3.981072e-07 reg 3.727594e+03 train accuracy: 0.369939 val accuracy: 0.375000\n",
      "lr 3.981072e-07 reg 1.000000e+04 train accuracy: 0.371612 val accuracy: 0.391000\n",
      "lr 1.584893e-06 reg 1.000000e+01 train accuracy: 0.347408 val accuracy: 0.355000\n",
      "lr 1.584893e-06 reg 2.682696e+01 train accuracy: 0.351388 val accuracy: 0.360000\n",
      "lr 1.584893e-06 reg 7.196857e+01 train accuracy: 0.354918 val accuracy: 0.343000\n",
      "lr 1.584893e-06 reg 1.930698e+02 train accuracy: 0.366959 val accuracy: 0.366000\n",
      "lr 1.584893e-06 reg 5.179475e+02 train accuracy: 0.388714 val accuracy: 0.374000\n",
      "lr 1.584893e-06 reg 1.389495e+03 train accuracy: 0.399878 val accuracy: 0.400000\n",
      "lr 1.584893e-06 reg 3.727594e+03 train accuracy: 0.381224 val accuracy: 0.397000\n",
      "lr 1.584893e-06 reg 1.000000e+04 train accuracy: 0.360122 val accuracy: 0.373000\n",
      "lr 6.309573e-06 reg 1.000000e+01 train accuracy: 0.366082 val accuracy: 0.355000\n",
      "lr 6.309573e-06 reg 2.682696e+01 train accuracy: 0.385408 val accuracy: 0.380000\n",
      "lr 6.309573e-06 reg 7.196857e+01 train accuracy: 0.376959 val accuracy: 0.368000\n",
      "lr 6.309573e-06 reg 1.930698e+02 train accuracy: 0.385939 val accuracy: 0.367000\n",
      "lr 6.309573e-06 reg 5.179475e+02 train accuracy: 0.370857 val accuracy: 0.355000\n",
      "lr 6.309573e-06 reg 1.389495e+03 train accuracy: 0.311735 val accuracy: 0.309000\n",
      "lr 6.309573e-06 reg 3.727594e+03 train accuracy: 0.312429 val accuracy: 0.320000\n",
      "lr 6.309573e-06 reg 1.000000e+04 train accuracy: 0.296061 val accuracy: 0.307000\n",
      "lr 2.511886e-05 reg 1.000000e+01 train accuracy: 0.307286 val accuracy: 0.285000\n",
      "lr 2.511886e-05 reg 2.682696e+01 train accuracy: 0.296694 val accuracy: 0.268000\n",
      "lr 2.511886e-05 reg 7.196857e+01 train accuracy: 0.239571 val accuracy: 0.235000\n",
      "lr 2.511886e-05 reg 1.930698e+02 train accuracy: 0.307429 val accuracy: 0.310000\n",
      "lr 2.511886e-05 reg 5.179475e+02 train accuracy: 0.227531 val accuracy: 0.229000\n",
      "lr 2.511886e-05 reg 1.389495e+03 train accuracy: 0.238327 val accuracy: 0.241000\n",
      "lr 2.511886e-05 reg 3.727594e+03 train accuracy: 0.189429 val accuracy: 0.195000\n",
      "lr 2.511886e-05 reg 1.000000e+04 train accuracy: 0.139184 val accuracy: 0.158000\n",
      "lr 1.000000e-04 reg 1.000000e+01 train accuracy: 0.230959 val accuracy: 0.228000\n",
      "lr 1.000000e-04 reg 2.682696e+01 train accuracy: 0.301776 val accuracy: 0.306000\n",
      "lr 1.000000e-04 reg 7.196857e+01 train accuracy: 0.273184 val accuracy: 0.293000\n",
      "lr 1.000000e-04 reg 1.930698e+02 train accuracy: 0.248041 val accuracy: 0.255000\n",
      "lr 1.000000e-04 reg 5.179475e+02 train accuracy: 0.182776 val accuracy: 0.180000\n",
      "lr 1.000000e-04 reg 1.389495e+03 train accuracy: 0.143673 val accuracy: 0.133000\n",
      "lr 1.000000e-04 reg 3.727594e+03 train accuracy: 0.161306 val accuracy: 0.179000\n",
      "lr 1.000000e-04 reg 1.000000e+04 train accuracy: 0.076122 val accuracy: 0.062000\n",
      "best validation accuracy achieved during cross-validation: 0.400000\n"
     ]
    },
    {
     "name": "stderr",
     "output_type": "stream",
     "text": [
      "/mnt/c/Users/user/Documents/Virtual-env_python/CS231n_S17_assignments/assignment1/cs231n/classifiers/softmax.py:80: RuntimeWarning: divide by zero encountered in log\n",
      "  softmax_scores_vec = - np.log(softmax_scores_matrix[xrange(N), y])\n"
     ]
    }
   ],
   "source": [
    "# Use the validation set to tune hyperparameters (regularization strength and\n",
    "# learning rate). You should experiment with different ranges for the learning\n",
    "# rates and regularization strengths; if you are careful you should be able to\n",
    "# get a classification accuracy of over 0.35 on the validation set.\n",
    "from cs231n.classifiers import Softmax\n",
    "results = {}\n",
    "best_val = -1\n",
    "best_softmax = None\n",
    "best_stats = None\n",
    "learning_rates = np.logspace(-7, -4, 6)\n",
    "regularization_strengths = np.logspace(1, 4, 8)\n",
    "\n",
    "################################################################################\n",
    "# TODO:                                                                        #\n",
    "# Use the validation set to set the learning rate and regularization strength. #\n",
    "# This should be identical to the validation that you did for the SVM; save    #\n",
    "# the best trained softmax classifer in best_softmax.                          #\n",
    "################################################################################\n",
    "print ('Hyperparameters tuning in progress', end=' ')\n",
    "for lr in learning_rates:\n",
    "    for reg in regularization_strengths:\n",
    "        print ('.', end=' ')\n",
    "        softmax = Softmax()\n",
    "        stats = softmax.train(X_train, y_train, lr, reg, num_iters=1000)\n",
    "        \n",
    "        train_acc = np.mean(softmax.predict(X_train) == y_train)\n",
    "        val_acc = np.mean(softmax.predict(X_val) == y_val)\n",
    "        \n",
    "        results[(lr, reg)] = (train_acc, val_acc)\n",
    "        \n",
    "        if val_acc > best_val:\n",
    "            best_val = val_acc\n",
    "            best_softmax = softmax\n",
    "            best_stats = stats\n",
    "\n",
    "print ()\n",
    "print ('Hyperparameters tuning done ...')       \n",
    "################################################################################\n",
    "#                              END OF YOUR CODE                                #\n",
    "################################################################################\n",
    "    \n",
    "# Print out results.\n",
    "for lr, reg in sorted(results):\n",
    "    train_accuracy, val_accuracy = results[(lr, reg)]\n",
    "    print('lr %e reg %e train accuracy: %f val accuracy: %f' % (\n",
    "                lr, reg, train_accuracy, val_accuracy))\n",
    "    \n",
    "print('best validation accuracy achieved during cross-validation: %f' % best_val)"
   ]
  },
  {
   "cell_type": "code",
   "execution_count": 7,
   "metadata": {
    "collapsed": false
   },
   "outputs": [
    {
     "name": "stdout",
     "output_type": "stream",
     "text": [
      "softmax on raw pixels final test set accuracy: 0.383000\n"
     ]
    }
   ],
   "source": [
    "# evaluate on test set\n",
    "# Evaluate the best softmax on test set\n",
    "y_test_pred = best_softmax.predict(X_test)\n",
    "test_accuracy = np.mean(y_test == y_test_pred)\n",
    "print('softmax on raw pixels final test set accuracy: %f' % (test_accuracy, ))"
   ]
  },
  {
   "cell_type": "code",
   "execution_count": 8,
   "metadata": {
    "collapsed": false
   },
   "outputs": [
    {
     "data": {
      "image/png": "[encoded data removed]",
      "text/plain": [
       "<matplotlib.figure.Figure at 0x7f0b8e4f5358>"
      ]
     },
     "metadata": {},
     "output_type": "display_data"
    }
   ],
   "source": [
    "# Visualize the learned weights for each class\n",
    "w = best_softmax.W[:-1,:] # strip out the bias\n",
    "w = w.reshape(32, 32, 3, 10)\n",
    "\n",
    "w_min, w_max = np.min(w), np.max(w)\n",
    "\n",
    "classes = ['plane', 'car', 'bird', 'cat', 'deer', 'dog', 'frog', 'horse', 'ship', 'truck']\n",
    "for i in range(10):\n",
    "    plt.subplot(2, 5, i + 1)\n",
    "    \n",
    "    # Rescale the weights to be between 0 and 255\n",
    "    wimg = 255.0 * (w[:, :, :, i].squeeze() - w_min) / (w_max - w_min)\n",
    "    plt.imshow(wimg.astype('uint8'))\n",
    "    plt.axis('off')\n",
    "    plt.title(classes[i])"
   ]
  }
 ],
 "metadata": {
  "kernelspec": {
   "display_name": "Python 3",
   "language": "python",
   "name": "python3"
  },
  "language_info": {
   "codemirror_mode": {
    "name": "ipython",
    "version": 3
   },
   "file_extension": ".py",
   "mimetype": "text/x-python",
   "name": "python",
   "nbconvert_exporter": "python",
   "pygments_lexer": "ipython3",
   "version": "3.5.2"
  }
 },
 "nbformat": 4,
 "nbformat_minor": 0
}
